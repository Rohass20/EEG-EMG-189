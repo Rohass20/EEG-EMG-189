{
 "metadata": {
  "language_info": {
   "codemirror_mode": {
    "name": "ipython",
    "version": 3
   },
   "file_extension": ".py",
   "mimetype": "text/x-python",
   "name": "python",
   "nbconvert_exporter": "python",
   "pygments_lexer": "ipython3",
   "version": "3.9.1-final"
  },
  "orig_nbformat": 2,
  "kernelspec": {
   "name": "python3",
   "display_name": "Python 3",
   "language": "python"
  }
 },
 "nbformat": 4,
 "nbformat_minor": 2,
 "cells": [
  {
   "cell_type": "code",
   "execution_count": 1,
   "metadata": {},
   "outputs": [],
   "source": [
    "import numpy as np\n",
    "from scipy.io import loadmat  \n",
    "import matplotlib.pyplot as plt\n",
    "import pandas as pd\n"
   ]
  },
  {
   "cell_type": "code",
   "execution_count": 2,
   "metadata": {},
   "outputs": [],
   "source": [
    "def load_to_df(filename):\n",
    "    mat = loadmat(filename)\n",
    "    mdata = mat['hs']  \n",
    "    mdtype = mdata.dtype  \n",
    "    ndata = {n: mdata[n][0, 0] for n in mdtype.names}\n",
    "\n",
    "    emg = ndata['emg']\n",
    "    eeg = ndata['eeg']\n",
    "    emgsamplingrate = 4000\n",
    "    eegsamplingrate = 500\n",
    "\n",
    "    eegdata = eeg[0][0][1]\n",
    "    eegcolumnnames = eeg[0][0][0][0]\n",
    "    emgcolumnnames = emg[0][0][1][0]\n",
    "    emgdata = emg[0][0][0]\n",
    "\n",
    "    eegcolumns = []\n",
    "    for element in eegcolumnnames:\n",
    "        eegcolumns.append(element[0])\n",
    "\n",
    "    emgcolumns = []\n",
    "    for element in emgcolumnnames:\n",
    "        emgcolumns.append(element[0])\n",
    "\n",
    "    eegdf = pd.DataFrame(eegdata,columns=eegcolumns)\n",
    "    emgdf = pd.DataFrame(emgdata,columns=emgcolumns)\n",
    "    eegt = np.arange(0,eegdf.shape[0]/eegsamplingrate,1/eegsamplingrate)\n",
    "    emgt = np.arange(0,emgdf.shape[0]/emgsamplingrate,1/emgsamplingrate)\n",
    "\n",
    "    return eegdf, emgdf, eegt, emgt\n"
   ]
  },
  {
   "cell_type": "code",
   "execution_count": 3,
   "metadata": {},
   "outputs": [],
   "source": [
    "def load_dfs_to_dict(participant, session):\n",
    "    filename = 'HS_P' + str(participant) + '_S' + str(session) +'.mat'\n",
    "    eegdf, emgdf, eegt, emgt = load_to_df(filename)\n",
    "    list = [eegdf, emgdf, eegt, emgt]\n",
    "    dictionary = {}\n",
    "    attribute_list = ['eegdf','emgdf','eegt','emgt']\n",
    "    for i, att in enumerate(attribute_list):\n",
    "        dictionary[att] = list[i]\n",
    "\n",
    "    return dictionary\n",
    "\n",
    "\n",
    "\n",
    "\n",
    "\n"
   ]
  },
  {
   "cell_type": "code",
   "execution_count": 4,
   "metadata": {},
   "outputs": [],
   "source": [
    "\n",
    "def load_participants(firstp, lastp, firsts, lasts):\n",
    "    data = {}\n",
    "    for participant in range(firstp, lastp + 1):\n",
    "        participantdict = {}\n",
    "        for session in range(firsts, lasts + 1):\n",
    "            participantdict['session ' + str(session)] = load_dfs_to_dict(participant,session)\n",
    "        data['participant ' + str(participant)] = participantdict\n",
    "    return data"
   ]
  }
 ]
}