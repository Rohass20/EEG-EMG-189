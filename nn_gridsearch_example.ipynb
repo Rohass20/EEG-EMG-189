{
 "cells": [
  {
   "cell_type": "code",
   "execution_count": null,
   "id": "raising-provincial",
   "metadata": {},
   "outputs": [],
   "source": [
    "eeg_list, emg_list = get_individiual_participant_data(9)"
   ]
  },
  {
   "cell_type": "code",
   "execution_count": null,
   "id": "civil-dialogue",
   "metadata": {},
   "outputs": [],
   "source": [
    "param_dict = {'signal' : ['both']['emg']['eeg'],\n",
    "                'class' : ['weight']['texture'],\n",
    "                'participants' : ['1,2,3,loo_1,loo_2,loo_3'],\n",
    "                'batch' : ['20']}\n",
    "\n",
    "grid = ParameterGrid(param_dict)\n",
    "\n",
    "gridsearch(grid, eeg_list, emg_list)"
   ]
  }
 ],
 "metadata": {
  "kernelspec": {
   "display_name": "Python 3",
   "language": "python",
   "name": "python3"
  },
  "language_info": {
   "codemirror_mode": {
    "name": "ipython",
    "version": 3
   },
   "file_extension": ".py",
   "mimetype": "text/x-python",
   "name": "python",
   "nbconvert_exporter": "python",
   "pygments_lexer": "ipython3",
   "version": "3.8.8"
  }
 },
 "nbformat": 4,
 "nbformat_minor": 5
}
