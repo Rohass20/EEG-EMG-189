{
 "metadata": {
  "language_info": {
   "codemirror_mode": {
    "name": "ipython",
    "version": 3
   },
   "file_extension": ".py",
   "mimetype": "text/x-python",
   "name": "python",
   "nbconvert_exporter": "python",
   "pygments_lexer": "ipython3",
   "version": "3.7.10-final"
  },
  "orig_nbformat": 2,
  "kernelspec": {
   "name": "python3",
   "display_name": "Python 3",
   "language": "python"
  }
 },
 "nbformat": 4,
 "nbformat_minor": 2,
 "cells": [
  {
   "cell_type": "code",
   "execution_count": 1,
   "metadata": {},
   "outputs": [
    {
     "output_type": "stream",
     "name": "stdout",
     "text": [
      "done with p\n"
     ]
    }
   ],
   "source": [
    "from utils import DataLoader\n",
    "\n",
    "eeg = DataLoader(1,(1,9))"
   ]
  },
  {
   "source": [
    "eegtuple = eeg.load_data_for_nn(participant=1, sigtype='eeg')"
   ],
   "cell_type": "code",
   "metadata": {},
   "execution_count": 8,
   "outputs": []
  },
  {
   "cell_type": "code",
   "execution_count": 9,
   "metadata": {},
   "outputs": [
    {
     "output_type": "execute_result",
     "data": {
      "text/plain": [
       "((4115, 32, 294), (294, 3), (294, 3))"
      ]
     },
     "metadata": {},
     "execution_count": 9
    }
   ],
   "source": [
    "eegtuple[0].shape, eegtuple[1].shape, eegtuple[2].shape"
   ]
  },
  {
   "cell_type": "code",
   "execution_count": 11,
   "metadata": {},
   "outputs": [],
   "source": [
    "import numpy as np"
   ]
  },
  {
   "cell_type": "code",
   "execution_count": 12,
   "metadata": {},
   "outputs": [],
   "source": [
    "first = True\n",
    "for i, array in enumerate(np.dsplit(eegtuple[0], 294)):   \n",
    "    if eegtuple[2][i,2] != 0:\n",
    "        if first:\n",
    "            filtered = array\n",
    "            weights = eegtuple[1][i]\n",
    "            textures = eegtuple[2][i]\n",
    "            first = False\n",
    "        else:\n",
    "            filtered = np.dstack((filtered, array))\n",
    "            weights = np.vstack((weights, eegtuple[1][i]))\n",
    "            textures = np.vstack((textures, eegtuple[2][i]))"
   ]
  },
  {
   "cell_type": "code",
   "execution_count": 13,
   "metadata": {},
   "outputs": [
    {
     "output_type": "execute_result",
     "data": {
      "text/plain": [
       "((4115, 32, 220), (220, 3), (220, 3))"
      ]
     },
     "metadata": {},
     "execution_count": 13
    }
   ],
   "source": [
    "filtered.shape, weights.shape, textures.shape"
   ]
  },
  {
   "cell_type": "code",
   "execution_count": 14,
   "metadata": {},
   "outputs": [],
   "source": [
    "shuffler = np.random.permutation(range(220))\n",
    "filtered = filtered[:,:,shuffler]\n",
    "weights = weights[shuffler]\n",
    "textures = textures[shuffler]"
   ]
  },
  {
   "cell_type": "code",
   "execution_count": 22,
   "metadata": {},
   "outputs": [
    {
     "output_type": "stream",
     "name": "stdout",
     "text": [
      "WARNING:tensorflow:From /home/rohass/anaconda3/envs/deep/lib/python3.7/site-packages/keras/backend/tensorflow_backend.py:4070: The name tf.nn.max_pool is deprecated. Please use tf.nn.max_pool2d instead.\n\n"
     ]
    }
   ],
   "source": [
    "from AdversarialCNN import AdversarialCNN\n",
    "\n",
    "net = AdversarialCNN(chans=32, samples=4115, n_output=3, n_nuisance=3, architecture='DeepConvNet', adversarial=False, lam=0.01)"
   ]
  },
  {
   "cell_type": "code",
   "execution_count": 16,
   "metadata": {},
   "outputs": [],
   "source": [
    "eeg_training = np.reshape(filtered[:,:,:176], (4115, 32, 176, 1))\n",
    "eeg_testing = np.reshape(filtered[:,:,176:], (4115, 32, 44, 1))\n",
    "weight_training = weights[:176,:]\n",
    "weight_testing = weights[176:,:]\n",
    "texture_training = textures[:176,:]\n",
    "texture_testing = textures[176:,:]"
   ]
  },
  {
   "cell_type": "code",
   "execution_count": 17,
   "metadata": {},
   "outputs": [
    {
     "output_type": "execute_result",
     "data": {
      "text/plain": [
       "((176, 32, 4115, 1), (44, 32, 4115, 1))"
      ]
     },
     "metadata": {},
     "execution_count": 17
    }
   ],
   "source": [
    "eeg_training = np.moveaxis(eeg_training, 0, 2)\n",
    "eeg_training = np.moveaxis(eeg_training, 0, 1)\n",
    "eeg_testing = np.moveaxis(eeg_testing, 0, 2)\n",
    "eeg_testing = np.moveaxis(eeg_testing, 0, 1)\n",
    "eeg_training.shape, eeg_testing.shape"
   ]
  },
  {
   "cell_type": "code",
   "execution_count": 18,
   "metadata": {},
   "outputs": [],
   "source": [
    "\n",
    "train_set = (eeg_training, weight_training, texture_training)\n",
    "test_set = (eeg_testing, weight_testing, texture_testing)"
   ]
  },
  {
   "cell_type": "code",
   "execution_count": 23,
   "metadata": {},
   "outputs": [
    {
     "output_type": "stream",
     "name": "stdout",
     "text": [
      "Epoch 1/500\n",
      "/home/rohass/anaconda3/envs/deep/lib/python3.7/site-packages/keras/engine/training.py:297: UserWarning: Discrepancy between trainable weights and collected trainable weights, did you set `model.trainable` without calling `model.compile` after ?\n",
      "  'Discrepancy between trainable weights and collected trainable'\n",
      "/home/rohass/anaconda3/envs/deep/lib/python3.7/site-packages/keras/engine/training.py:297: UserWarning: Discrepancy between trainable weights and collected trainable weights, did you set `model.trainable` without calling `model.compile` after ?\n",
      "  'Discrepancy between trainable weights and collected trainable'\n",
      "Train - [Loss: 7.976208] - [CLA loss: 7.976208, acc: 37.50%] - [ADV loss: 0.000001, acc: 100.00%]\n",
      "Validation - [Loss: 6.458746] - [CLA loss: 6.458746, acc: 38.64%] - [ADV loss: 0.000000, acc: 100.00%]\n",
      "Epoch 2/500\n",
      "Train - [Loss: 7.566335] - [CLA loss: 7.566335, acc: 53.98%] - [ADV loss: 0.000000, acc: 100.00%]\n",
      "Validation - [Loss: 10.074579] - [CLA loss: 10.074579, acc: 38.64%] - [ADV loss: 0.000000, acc: 100.00%]\n",
      "Epoch 3/500\n",
      "Train - [Loss: 8.679626] - [CLA loss: 8.679626, acc: 61.93%] - [ADV loss: 0.000000, acc: 100.00%]\n",
      "Validation - [Loss: 5.068351] - [CLA loss: 5.068351, acc: 45.45%] - [ADV loss: 0.000000, acc: 100.00%]\n",
      "Epoch 4/500\n",
      "Train - [Loss: 5.399163] - [CLA loss: 5.399163, acc: 65.34%] - [ADV loss: 0.000000, acc: 100.00%]\n",
      "Validation - [Loss: 5.470373] - [CLA loss: 5.470373, acc: 40.91%] - [ADV loss: 0.000000, acc: 100.00%]\n",
      "Epoch 5/500\n",
      "Train - [Loss: 2.750542] - [CLA loss: 2.750542, acc: 81.25%] - [ADV loss: 0.000000, acc: 100.00%]\n",
      "Validation - [Loss: 10.366138] - [CLA loss: 10.366138, acc: 40.91%] - [ADV loss: 0.000000, acc: 100.00%]\n",
      "Epoch 6/500\n",
      "Train - [Loss: 1.738258] - [CLA loss: 1.738258, acc: 85.80%] - [ADV loss: 0.000000, acc: 100.00%]\n",
      "Validation - [Loss: 11.096622] - [CLA loss: 11.096622, acc: 52.27%] - [ADV loss: 0.000000, acc: 100.00%]\n",
      "Epoch 7/500\n",
      "Train - [Loss: 1.675369] - [CLA loss: 1.675369, acc: 86.93%] - [ADV loss: 0.000000, acc: 100.00%]\n",
      "Validation - [Loss: 9.930347] - [CLA loss: 9.930347, acc: 56.82%] - [ADV loss: 0.000000, acc: 100.00%]\n",
      "Epoch 8/500\n",
      "Train - [Loss: 1.287575] - [CLA loss: 1.287575, acc: 86.93%] - [ADV loss: 0.000000, acc: 100.00%]\n",
      "Validation - [Loss: 7.334085] - [CLA loss: 7.334085, acc: 56.82%] - [ADV loss: 0.000000, acc: 100.00%]\n",
      "Epoch 9/500\n"
     ]
    },
    {
     "output_type": "error",
     "ename": "KeyboardInterrupt",
     "evalue": "",
     "traceback": [
      "\u001b[0;31m---------------------------------------------------------------------------\u001b[0m",
      "\u001b[0;31mKeyboardInterrupt\u001b[0m                         Traceback (most recent call last)",
      "\u001b[0;32m<ipython-input-23-5bb5a71a5ff5>\u001b[0m in \u001b[0;36m<module>\u001b[0;34m\u001b[0m\n\u001b[0;32m----> 1\u001b[0;31m \u001b[0mnet\u001b[0m\u001b[0;34m.\u001b[0m\u001b[0mtrain\u001b[0m\u001b[0;34m(\u001b[0m\u001b[0mtrain_set\u001b[0m\u001b[0;34m,\u001b[0m \u001b[0mtest_set\u001b[0m\u001b[0;34m,\u001b[0m \u001b[0mlog\u001b[0m \u001b[0;34m=\u001b[0m \u001b[0;34m'logdir'\u001b[0m\u001b[0;34m,\u001b[0m \u001b[0mepochs\u001b[0m\u001b[0;34m=\u001b[0m\u001b[0;36m500\u001b[0m\u001b[0;34m,\u001b[0m \u001b[0mbatch_size\u001b[0m\u001b[0;34m=\u001b[0m\u001b[0;36m1\u001b[0m\u001b[0;34m)\u001b[0m\u001b[0;34m\u001b[0m\u001b[0;34m\u001b[0m\u001b[0m\n\u001b[0m",
      "\u001b[0;32m/mnt/c/Users/Ron Hasson/Desktop/ClassWork/189/data/AdversarialCNN.py\u001b[0m in \u001b[0;36mtrain\u001b[0;34m(self, train_set, val_set, log, epochs, batch_size)\u001b[0m\n\u001b[1;32m    143\u001b[0m                 \u001b[0my_train_batch\u001b[0m \u001b[0;34m=\u001b[0m \u001b[0my_train\u001b[0m\u001b[0;34m[\u001b[0m\u001b[0mbatch_ids\u001b[0m\u001b[0;34m]\u001b[0m\u001b[0;34m\u001b[0m\u001b[0;34m\u001b[0m\u001b[0m\n\u001b[1;32m    144\u001b[0m                 \u001b[0ms_train_batch\u001b[0m \u001b[0;34m=\u001b[0m \u001b[0ms_train\u001b[0m\u001b[0;34m[\u001b[0m\u001b[0mbatch_ids\u001b[0m\u001b[0;34m]\u001b[0m\u001b[0;34m\u001b[0m\u001b[0;34m\u001b[0m\u001b[0m\n\u001b[0;32m--> 145\u001b[0;31m                 \u001b[0mz_train_batch\u001b[0m \u001b[0;34m=\u001b[0m \u001b[0mself\u001b[0m\u001b[0;34m.\u001b[0m\u001b[0menc\u001b[0m\u001b[0;34m.\u001b[0m\u001b[0mpredict_on_batch\u001b[0m\u001b[0;34m(\u001b[0m\u001b[0mx_train_batch\u001b[0m\u001b[0;34m)\u001b[0m\u001b[0;34m\u001b[0m\u001b[0;34m\u001b[0m\u001b[0m\n\u001b[0m\u001b[1;32m    146\u001b[0m \u001b[0;34m\u001b[0m\u001b[0m\n\u001b[1;32m    147\u001b[0m                 \u001b[0mself\u001b[0m\u001b[0;34m.\u001b[0m\u001b[0madv\u001b[0m\u001b[0;34m.\u001b[0m\u001b[0mtrain_on_batch\u001b[0m\u001b[0;34m(\u001b[0m\u001b[0mz_train_batch\u001b[0m\u001b[0;34m,\u001b[0m \u001b[0ms_train_batch\u001b[0m\u001b[0;34m)\u001b[0m\u001b[0;34m\u001b[0m\u001b[0;34m\u001b[0m\u001b[0m\n",
      "\u001b[0;32m~/anaconda3/envs/deep/lib/python3.7/site-packages/keras/engine/training.py\u001b[0m in \u001b[0;36mpredict_on_batch\u001b[0;34m(self, x)\u001b[0m\n\u001b[1;32m   1578\u001b[0m             \u001b[0mins\u001b[0m \u001b[0;34m=\u001b[0m \u001b[0mx\u001b[0m\u001b[0;34m\u001b[0m\u001b[0;34m\u001b[0m\u001b[0m\n\u001b[1;32m   1579\u001b[0m         \u001b[0mself\u001b[0m\u001b[0;34m.\u001b[0m\u001b[0m_make_predict_function\u001b[0m\u001b[0;34m(\u001b[0m\u001b[0;34m)\u001b[0m\u001b[0;34m\u001b[0m\u001b[0;34m\u001b[0m\u001b[0m\n\u001b[0;32m-> 1580\u001b[0;31m         \u001b[0moutputs\u001b[0m \u001b[0;34m=\u001b[0m \u001b[0mself\u001b[0m\u001b[0;34m.\u001b[0m\u001b[0mpredict_function\u001b[0m\u001b[0;34m(\u001b[0m\u001b[0mins\u001b[0m\u001b[0;34m)\u001b[0m\u001b[0;34m\u001b[0m\u001b[0;34m\u001b[0m\u001b[0m\n\u001b[0m\u001b[1;32m   1581\u001b[0m         \u001b[0;32mreturn\u001b[0m \u001b[0munpack_singleton\u001b[0m\u001b[0;34m(\u001b[0m\u001b[0moutputs\u001b[0m\u001b[0;34m)\u001b[0m\u001b[0;34m\u001b[0m\u001b[0;34m\u001b[0m\u001b[0m\n\u001b[1;32m   1582\u001b[0m \u001b[0;34m\u001b[0m\u001b[0m\n",
      "\u001b[0;32m~/anaconda3/envs/deep/lib/python3.7/site-packages/tensorflow/python/keras/backend.py\u001b[0m in \u001b[0;36m__call__\u001b[0;34m(self, inputs)\u001b[0m\n\u001b[1;32m   3290\u001b[0m \u001b[0;34m\u001b[0m\u001b[0m\n\u001b[1;32m   3291\u001b[0m     fetched = self._callable_fn(*array_vals,\n\u001b[0;32m-> 3292\u001b[0;31m                                 run_metadata=self.run_metadata)\n\u001b[0m\u001b[1;32m   3293\u001b[0m     \u001b[0mself\u001b[0m\u001b[0;34m.\u001b[0m\u001b[0m_call_fetch_callbacks\u001b[0m\u001b[0;34m(\u001b[0m\u001b[0mfetched\u001b[0m\u001b[0;34m[\u001b[0m\u001b[0;34m-\u001b[0m\u001b[0mlen\u001b[0m\u001b[0;34m(\u001b[0m\u001b[0mself\u001b[0m\u001b[0;34m.\u001b[0m\u001b[0m_fetches\u001b[0m\u001b[0;34m)\u001b[0m\u001b[0;34m:\u001b[0m\u001b[0;34m]\u001b[0m\u001b[0;34m)\u001b[0m\u001b[0;34m\u001b[0m\u001b[0;34m\u001b[0m\u001b[0m\n\u001b[1;32m   3294\u001b[0m     output_structure = nest.pack_sequence_as(\n",
      "\u001b[0;32m~/anaconda3/envs/deep/lib/python3.7/site-packages/tensorflow/python/client/session.py\u001b[0m in \u001b[0;36m__call__\u001b[0;34m(self, *args, **kwargs)\u001b[0m\n\u001b[1;32m   1456\u001b[0m         ret = tf_session.TF_SessionRunCallable(self._session._session,\n\u001b[1;32m   1457\u001b[0m                                                \u001b[0mself\u001b[0m\u001b[0;34m.\u001b[0m\u001b[0m_handle\u001b[0m\u001b[0;34m,\u001b[0m \u001b[0margs\u001b[0m\u001b[0;34m,\u001b[0m\u001b[0;34m\u001b[0m\u001b[0;34m\u001b[0m\u001b[0m\n\u001b[0;32m-> 1458\u001b[0;31m                                                run_metadata_ptr)\n\u001b[0m\u001b[1;32m   1459\u001b[0m         \u001b[0;32mif\u001b[0m \u001b[0mrun_metadata\u001b[0m\u001b[0;34m:\u001b[0m\u001b[0;34m\u001b[0m\u001b[0;34m\u001b[0m\u001b[0m\n\u001b[1;32m   1460\u001b[0m           \u001b[0mproto_data\u001b[0m \u001b[0;34m=\u001b[0m \u001b[0mtf_session\u001b[0m\u001b[0;34m.\u001b[0m\u001b[0mTF_GetBuffer\u001b[0m\u001b[0;34m(\u001b[0m\u001b[0mrun_metadata_ptr\u001b[0m\u001b[0;34m)\u001b[0m\u001b[0;34m\u001b[0m\u001b[0;34m\u001b[0m\u001b[0m\n",
      "\u001b[0;31mKeyboardInterrupt\u001b[0m: "
     ]
    }
   ],
   "source": [
    "net.train(train_set, test_set, log = 'logdir', epochs=500, batch_size=1)"
   ]
  },
  {
   "cell_type": "code",
   "execution_count": null,
   "metadata": {},
   "outputs": [],
   "source": []
  }
 ]
}