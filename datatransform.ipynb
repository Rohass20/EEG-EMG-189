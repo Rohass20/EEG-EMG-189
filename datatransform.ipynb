{
 "metadata": {
  "language_info": {
   "codemirror_mode": {
    "name": "ipython",
    "version": 3
   },
   "file_extension": ".py",
   "mimetype": "text/x-python",
   "name": "python",
   "nbconvert_exporter": "python",
   "pygments_lexer": "ipython3",
   "version": "3.7.10-final"
  },
  "orig_nbformat": 2,
  "kernelspec": {
   "name": "python3",
   "display_name": "Python 3",
   "language": "python"
  }
 },
 "nbformat": 4,
 "nbformat_minor": 2,
 "cells": [
  {
   "cell_type": "code",
   "execution_count": 1,
   "metadata": {},
   "outputs": [
    {
     "output_type": "stream",
     "name": "stdout",
     "text": [
      "done with p\n"
     ]
    }
   ],
   "source": [
    "from utils import DataLoader\n",
    "\n",
    "eeg = DataLoader(1,(1,9))"
   ]
  },
  {
   "source": [
    "eegtuple, emgtuple = eeg.load_data_for_nn(participant=1, sigtype='both')"
   ],
   "cell_type": "code",
   "metadata": {},
   "execution_count": 2,
   "outputs": []
  },
  {
   "cell_type": "code",
   "execution_count": 3,
   "metadata": {},
   "outputs": [
    {
     "output_type": "execute_result",
     "data": {
      "text/plain": [
       "((32920, 11, 294), (294, 3), (294, 3), (4115, 38, 294), (294, 3), (294, 3))"
      ]
     },
     "metadata": {},
     "execution_count": 3
    }
   ],
   "source": [
    "emgtuple[0].shape, emgtuple[1].shape, emgtuple[2].shape, eegtuple[0].shape, eegtuple[1].shape, eegtuple[2].shape"
   ]
  }
 ]
}